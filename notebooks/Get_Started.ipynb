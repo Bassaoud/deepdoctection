{
 "cells": [
  {
   "cell_type": "markdown",
   "metadata": {},
   "source": [
    "![title](./pics/dd_logo.png) \n",
    "\n",
    "# Getting started\n",
    "\n",
    "This introductory notebook introduces the **deep**doctection analyzer. The analyzer is a built-in pipeline, which offers a rudimentary framework to identify layout structures in documents and to extract its text. We will start with analyzing a business document.\n",
    "\n",
    "Before starting, however, we have to say:\n",
    "\n",
    "All pipeline components of the analyzer were trained on standard data sets for document layout analysis (Publaynet, Pubtabnet). These datasets contain document pages and tables from medical research articles. This means that there is already a bias in the training data set and it is not to be expected that the layout analysis would deliver results with the precision as on documents from medical studies. To improve the results we refer to the Fine Tuning Tutorial\n",
    "\n",
    "## Choosing the kernel\n",
    "\n",
    "We assume that the installation was carried out using the options described. If a virtual environment and a kernel have been created using the make files, the deep-doc kernel can be chosen using the kernel selection on the notebook.\n",
    "\n",
    "![title](./pics/dd_kernel.png) \n",
    "\n",
    "You can check if the installation was successful by activating the next cell. \n",
    "\n",
    "## Running this notebook on Colab\n",
    "\n",
    "You can run this notebook on Colab. To install activate the following cell. \n",
    "\n",
    "[![Open In Colab](https://colab.research.google.com/assets/colab-badge.svg)](https://github.com/deepdoctection/deepdoctection/blob/master/notebooks/Get_Started.ipynb)"
   ]
  },
  {
   "cell_type": "code",
   "execution_count": null,
   "metadata": {},
   "outputs": [],
   "source": [
    "!git clone https://github.com/deepdoctection/deepdoctection.git\n",
    "!cd deepdoctection\n",
    "!make up-reqs-dev"
   ]
  },
  {
   "cell_type": "code",
   "execution_count": 1,
   "metadata": {},
   "outputs": [],
   "source": [
    "import os\n",
    "import cv2\n",
    "from matplotlib import pyplot as plt\n",
    "from IPython.core.display import HTML\n",
    "from deep_doctection.utils.systools import get_package_path"
   ]
  },
  {
   "cell_type": "markdown",
   "metadata": {},
   "source": [
    "## Sample\n",
    "\n",
    "Let's first look at a sample page we want to process."
   ]
  },
  {
   "cell_type": "code",
   "execution_count": null,
   "metadata": {},
   "outputs": [],
   "source": [
    "image_path = os.path.join(get_package_path(),\"notebooks/pics/samples/sample_2/sample_2.png\")\n",
    "image = cv2.imread(image_path)\n",
    "plt.figure(figsize = (25,17))\n",
    "plt.axis('off')\n",
    "plt.imshow(image)"
   ]
  },
  {
   "cell_type": "markdown",
   "metadata": {},
   "source": [
    "![title](./pics/samples/sample_2/sample_2.png)"
   ]
  },
  {
   "cell_type": "markdown",
   "metadata": {},
   "source": [
    "## Analyzer\n",
    "\n",
    "We now start by introducing the **deep**doctection analyzer. There is a factory function `get_dd_analyzer` for that outputs a preconfigured version.  "
   ]
  },
  {
   "cell_type": "code",
   "execution_count": 3,
   "metadata": {},
   "outputs": [],
   "source": [
    "from deep_doctection.analyzer import get_dd_analyzer"
   ]
  },
  {
   "cell_type": "markdown",
   "metadata": {},
   "source": [
    "Knowing the language in advance will increase the text output significantly. As the document is german, we will pass a customizing: language='deu'.  "
   ]
  },
  {
   "cell_type": "code",
   "execution_count": null,
   "metadata": {},
   "outputs": [],
   "source": [
    "analyzer = get_dd_analyzer(language='deu')"
   ]
  },
  {
   "cell_type": "markdown",
   "metadata": {},
   "source": [
    "## Pipeline components\n",
    "\n",
    "We will not go into details of the entire configuration. However, the top line is important. It says that all optional components are set to 'True' by default.\n",
    "\n",
    "\n",
    "`\n",
    "Will establish with table: True and ocr: True\n",
    "`\n",
    "\n",
    "The analyzer therefore performs layout recognition, table segmentation and OCR extraction. These steps represent the components that are going to be performed using neural networks.\n",
    "\n",
    "In addition, there are other components that are rule-based: These include, for example, a refinement process for table segmentation, matching the OCR-determined words to the layout results and a heuristic determination of the reading order.\n",
    "\n",
    "## Analyze methods\n",
    "\n",
    "The `analyze` method has various transfer parameters. The `path` parameter can be used to transfer a path to a directory to the analyzer. In this directory, all individual pages can processed successively provided they have a file name suffix '.png' or '.jpg'.\n",
    "\n",
    "It is also possible to transfer a path to a PDF document using the `doc_path` parameter. When the analyzer is started, the individual pages of the entire document are successively analyzed. "
   ]
  },
  {
   "cell_type": "code",
   "execution_count": 5,
   "metadata": {},
   "outputs": [
    {
     "name": "stdout",
     "output_type": "stream",
     "text": [
      "\u001b[32m[1214 10:40:05 @common.py:558]\u001b[0m [JoinData] Size check failed for the list of dataflow to be joined!\n"
     ]
    }
   ],
   "source": [
    "path = os.path.join(get_package_path(),\"notebooks/pics/samples/sample_2\")\n",
    "df = analyzer.analyze(path=path)"
   ]
  },
  {
   "cell_type": "markdown",
   "metadata": {},
   "source": [
    "You can see when running the cell that not much has happened. Indeed, the analyze method returns a generator. The generator allows processing to be started via a for-loop.\n",
    "\n",
    "We use the iter / next method here. The image is only processed when the next function is called."
   ]
  },
  {
   "cell_type": "code",
   "execution_count": 6,
   "metadata": {},
   "outputs": [
    {
     "name": "stdout",
     "output_type": "stream",
     "text": [
      "processing sample_2.png\n"
     ]
    }
   ],
   "source": [
    "doc=iter(df)\n",
    "page = next(doc)"
   ]
  },
  {
   "cell_type": "markdown",
   "metadata": {},
   "source": [
    "## Page object\n",
    "\n",
    "A Page object is returned, which has some handy tools for vizualising a retrieving the detected results. There are some attributes that store meta data information."
   ]
  },
  {
   "cell_type": "code",
   "execution_count": 7,
   "metadata": {},
   "outputs": [
    {
     "data": {
      "text/plain": [
       "(2339, 1654, 'sample_2.png')"
      ]
     },
     "execution_count": 7,
     "metadata": {},
     "output_type": "execute_result"
    }
   ],
   "source": [
    "page.height, page.width, page.file_name"
   ]
  },
  {
   "cell_type": "code",
   "execution_count": 8,
   "metadata": {},
   "outputs": [],
   "source": [
    "image = page.viz()"
   ]
  },
  {
   "cell_type": "markdown",
   "metadata": {},
   "source": [
    "The viz method draws the identified layout bounding box components into the image. These can be output with common visualization tools.\n",
    "\n",
    "The layout analysis reproduces the title, text and tables. In addition, lists and figures, if any, are identified. We can see here that a table with table cells was recognized on the page. In addition, the segmentations such as rows and columns were framed. The row and column positions can be seen in the cell names."
   ]
  },
  {
   "cell_type": "code",
   "execution_count": null,
   "metadata": {},
   "outputs": [],
   "source": [
    "plt.figure(figsize = (25,17))\n",
    "plt.axis('off')\n",
    "plt.imshow(image)"
   ]
  },
  {
   "cell_type": "markdown",
   "metadata": {},
   "source": [
    "![title](https://github.com/deepdoctection/deepdoctection/raw/master/docs/tutorials/pics/output_16_1.png)"
   ]
  },
  {
   "cell_type": "markdown",
   "metadata": {},
   "source": [
    "The next methods are devoted to the text output.\n",
    "\n",
    "We can use the get_text method to output the running text only. Table contents are not included here. "
   ]
  },
  {
   "cell_type": "code",
   "execution_count": 10,
   "metadata": {},
   "outputs": [
    {
     "name": "stdout",
     "output_type": "stream",
     "text": [
      "\n",
      "Festlegung der VV und angemessene Risikoadjustierung\n",
      "Die VV-Pools der DWS Gruppe werden einer angemessenen Anpassung der Risiken unterzogen, die die Adjustierung ex ante als auch ex post umfasst. Die angewandte robuste Methode soll sicherstellen, dass bei der Festlegung der VV sowohl der risikoadjustierten Leistung als auch der Kapital- und Liquiditätsausstattung der DWS Gruppe Rechnung getragen wird. Die Er- mittlung des Gesamtbetrags der VV orientiert sich primär an (i) der Tragfähigkeit für die DWS Gruppe (das heißt, was „kann” die DWS Gruppe langfristig an VV im Einklang mit regulatorischen ‚Anforderungen gewähren) und (il) der Leistung (das heißt, was „sollte” die DWS Gruppe an VV gewähren, um für eine angemessene leistungsbezogene Vergütung zu sorgen und gleichzeitig den langfristigen Erfolg des Unternehmens zu sichern)\n",
      "Die DWS Gruppe hat für die Festlegung der auf Ebene der individuellen Mitarbeiter die „Grundsätze für die Festlegung der variablen Vergütung” eingeführt. Diese enthalten Informationen über die Faktoren und Messgrößen, die bei Entscheidungen zur IVV berücksichtigt werden müssen. Dazu zählen beispielsweise Investmentperformance, Kundenbindung, Erwägungen zur Unternehmenskultur sowie Zielvereinbarungen und Leistungsbeurteilung im Rahmen des „Ganzheitliche Leistung“-Ansatzes. Zudem werden Hinweise der Kontrollfunktionen und Diszipli- narmaßnahmen sowie deren Einfluss auf die VV einbezogen\n",
      "Vergütung für das Jahr 2018\n",
      "Nach der hervorragenden Entwicklung im Jahr 2017 hatte die globale Vermögensverwaltungsbranche 2018 mit einigen Schwierigkeiten zu kämpfen. Gründe waren ungünstige Marktbedin- gungen, stärkere geopolitische Spannungen und die negative Stimmung unter den Anlegern, vor allem am europäischen Retail-Miarkt. Auch die DWS Gruppe blieb von dieser Entwicklung nicht verschont.\n",
      "der im März 2019 für das Performance-Jahr 2018 gewährten wurde die Gruppenkomponente allen berechtigten Mitarbeitern auf Basis der Bewertung der vier festgelegten Leistungs- kennzahlen gewährt. Der Vorstand der Deutsche Bank AG hat für 2018 unter Berücksichtigung der beträchtlichen Leistungen der Mitarbeiter und in seinem Ermessen einen Zielerreichungsgrad von 70 % festgelegt\n",
      "Identifi ierung von Risikoträgern\n",
      "Gemäß Gesetz vom 17. Dezember 2010 über die Organismen für gemeinsame Anlagen (in seiner jeweils gültigen Fassung) sowie den ESMA-Leitlinien unter Berücksichtigung der OGAW- Richtlinie hat die Gesellschaft Mitarbeiter mit wesentlichem Einfluss auf das Risikoprofil der Gesellschaft ermittelt („Risikoträger\"). Das Identifizierungsverfahren basiert auf der Bewertung des Einflusses folgender Kategorien von Mitarbeitern auf das Risikoprofil der Gesellschaft oder einen von ihr verwalteten Fonds: (a) Geschäftsführung/Senior Management, (b) Portfolio-/ Investmentmanager, (c) Kontrollfunktionen, (d) Mitarbeiter mit Leitungsfunktionen in Verwaltung, Marketing und Human Resources, (e) sonstige Mitarbeiter (Risikoträger) mit wesentlichem Einfluss, (f} sonstige Mitarbeiter in der gleichen Vergütungsstufe wie sonstige Risikoträger. Mindestens 40 % der VV für Risikoträger werden aufgeschoben vergeben. Des Weiteren werden für wichtige Anlageexperten mindestens 50 % sowohl des direkt ausgezahlten als auch des aufgeschobenen Teils in Form von aktienbasierten oder fondsbasierten Instrumenten der DWS Gruppe gewährt. Alle aufgeschobenen Komponenten sind bestimmten Leistungs- und Verfallbedingungen unterworfen, um eine angemessene nachträgliche Risikoadjustierung zu gewähr- leisten. Bei einem VV-Betrag von weniger als EUR 50.000 erhalten Risikoträger ihre gesamte VV in bar und ohne Aufschub.\n",
      "Vergütungsdaten für Delegierte, an die die Gesellschaft Portfolio- oder Risikomanagementaufgaben übertragen hat, sind nicht in Tabelle erfasst. Unter Berücksichtigung diverser Vergütungsbestandteile entsprechend den Definitionen in den ESMA-Leitlinien, die Geldzahlungen oder leistungen (wie Bargeld, Anteile, Optionsscheine, Rentenbeiträge) oder Nicht-(direkte) Geldleistungen (wie Gehaltsnebenleistungen oder Sondervergütungen für Fahrzeuge, Mobiltelefone, usw.) umfassen „Senior Management” umfasst nur den Vorstand der Gesellschaft. Der Vorstand erfüllt die Definition als Führungskräfte der Gesellschaft. Uber den Vorstand hinaus wurden keine weiteren Führungskräfte identifiziert.\n"
     ]
    }
   ],
   "source": [
    "print(page.get_text())"
   ]
  },
  {
   "cell_type": "markdown",
   "metadata": {},
   "source": [
    "Tables are stored in page.tables which is a python list of table objects. Obviously, only one table has been detected."
   ]
  },
  {
   "cell_type": "code",
   "execution_count": 15,
   "metadata": {},
   "outputs": [
    {
     "data": {
      "text/plain": [
       "1"
      ]
     },
     "execution_count": 15,
     "metadata": {},
     "output_type": "execute_result"
    }
   ],
   "source": [
    "len(page.tables)"
   ]
  },
  {
   "cell_type": "code",
   "execution_count": 16,
   "metadata": {},
   "outputs": [
    {
     "name": "stdout",
     "output_type": "stream",
     "text": [
      "______________ row: 1 ______________\n",
      "______________ row: 2 ______________\n",
      "row: 1, col: 1, rs: 1, cs: 1, text: Jahresdurchschnitt der Mitarbeiterzahl \n",
      "row: 1, col: 2, rs: 1, cs: 1, text: 139 \n",
      "______________ row: 3 ______________\n",
      "row: 2, col: 1, rs: 1, cs: 1, text: Gesamtvergütung ? \n",
      "row: 2, col: 2, rs: 1, cs: 1, text: EUR 15.315.952 \n",
      "______________ row: 4 ______________\n",
      "row: 3, col: 1, rs: 1, cs: 1, text: Fixe Vergütung \n",
      "row: 3, col: 2, rs: 1, cs: 1, text: EUR 13.151.856 \n",
      "______________ row: 5 ______________\n",
      "row: 4, col: 1, rs: 1, cs: 1, text: Variable Vergütung \n",
      "row: 4, col: 2, rs: 1, cs: 1, text: EUR 2.164.096 \n",
      "______________ row: 6 ______________\n",
      "row: 5, col: 1, rs: 1, cs: 1, text: davon: Carried Interest \n",
      "row: 5, col: 2, rs: 1, cs: 1, text: EURO \n",
      "______________ row: 7 ______________\n",
      "row: 6, col: 1, rs: 1, cs: 1, text: Gesamtvergütung für Senior Management ® \n",
      "row: 6, col: 2, rs: 1, cs: 1, text: EUR 1.468.434 \n",
      "______________ row: 8 ______________\n",
      "row: 7, col: 1, rs: 1, cs: 1, text: Gesamtvergütung für sonstige Risikoträger \n",
      "row: 7, col: 2, rs: 1, cs: 1, text: EUR 324.229 \n",
      "\n"
     ]
    }
   ],
   "source": [
    "print(page.tables[0])"
   ]
  },
  {
   "cell_type": "markdown",
   "metadata": {},
   "source": [
    "The print function can be used to display an output of the table that includes the segmentation. In addition, an HTML version is generated that visually reproduces the recognized structure well."
   ]
  },
  {
   "cell_type": "code",
   "execution_count": 17,
   "metadata": {},
   "outputs": [
    {
     "data": {
      "text/html": [
       "<table><tr><td>139</td><td>Jahresdurchschnitt der Mitarbeiterzahl</td></tr><tr><td>EUR 15.315.952</td><td>Gesamtvergütung ?</td></tr><tr><td>EUR 13.151.856</td><td>Fixe Vergütung</td></tr><tr><td>EUR 2.164.096</td><td>Variable Vergütung</td></tr><tr><td>EURO</td><td>davon: Carried Interest</td></tr><tr><td>EUR 1.468.434</td><td>Gesamtvergütung für Senior Management ®</td></tr><tr><td>EUR 324.229</td><td>Gesamtvergütung für sonstige Risikoträger</td></tr><tr><td>EUR 554.046</td><td>Gesamtvergütung für Mitarbeiter mit Kontrollfunktionen</td></tr></table>"
      ],
      "text/plain": [
       "<IPython.core.display.HTML object>"
      ]
     },
     "execution_count": 17,
     "metadata": {},
     "output_type": "execute_result"
    }
   ],
   "source": [
    "HTML(page.tables[0].html)"
   ]
  },
  {
   "cell_type": "markdown",
   "metadata": {},
   "source": [
    "Finally, you can save the full results to a JSON file."
   ]
  },
  {
   "cell_type": "code",
   "execution_count": 19,
   "metadata": {},
   "outputs": [],
   "source": [
    "page.save(path)"
   ]
  }
 ],
 "metadata": {
  "kernelspec": {
   "display_name": "deep-doc",
   "language": "python",
   "name": "deep-doc"
  },
  "language_info": {
   "codemirror_mode": {
    "name": "ipython",
    "version": 3
   },
   "file_extension": ".py",
   "mimetype": "text/x-python",
   "name": "python",
   "nbconvert_exporter": "python",
   "pygments_lexer": "ipython3",
   "version": "3.8.10"
  }
 },
 "nbformat": 4,
 "nbformat_minor": 4
}
