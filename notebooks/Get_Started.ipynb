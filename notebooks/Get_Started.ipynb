{
 "cells": [
  {
   "cell_type": "markdown",
   "metadata": {},
   "source": [
    "![title](./pics/dd_logo.png)\n",
    "\n",
    "# Getting started\n",
    "\n",
    "This introductory notebook introduces the Deep Doctection Analyzer. The analyzer is a built-in pipeline, which offers a rudimentary framework to identify layout structures in business documents and to extract its text.\n",
    "\n",
    "We assume that the installation was carried out using the options described. If a virtual environment and a kernel have been created using the make files, the deep-doc kernel can be selected using the kernel selection on the notebook.\n",
    "\n",
    "![title](./pics/dd_kernel.png) "
   ]
  },
  {
   "cell_type": "code",
   "execution_count": 1,
   "metadata": {},
   "outputs": [],
   "source": [
    "import os\n",
    "from matplotlib import pyplot as plt\n",
    "from IPython.core.display import HTML"
   ]
  },
  {
   "cell_type": "markdown",
   "metadata": {},
   "source": [
    "## Analyzer\n",
    "\n",
    "There is a factory function `get_dd_analyzer` for the analyzer that outputs a preconfigured version. \n",
    "\n",
    "We start with the standard configuration, which we will explain in more detail below. "
   ]
  },
  {
   "cell_type": "code",
   "execution_count": 2,
   "metadata": {},
   "outputs": [],
   "source": [
    "from deep_doctection.analyzer import get_dd_analyzer\n",
    "from deep_doctection.utils.systools import get_package_path"
   ]
  },
  {
   "cell_type": "code",
   "execution_count": 3,
   "metadata": {},
   "outputs": [],
   "source": [
    "path = os.path.join(get_package_path(),\"notebooks/pics/samples/sample_2\")"
   ]
  },
  {
   "cell_type": "markdown",
   "metadata": {},
   "source": [
    "Knowing the language in advance will increase the text output significantly. As the document is german we will pass language='deu' as only configuration.  "
   ]
  },
  {
   "cell_type": "code",
   "execution_count": null,
   "metadata": {},
   "outputs": [],
   "source": [
    "analyzer = get_dd_analyzer(language='deu')"
   ]
  },
  {
   "cell_type": "markdown",
   "metadata": {},
   "source": [
    "## Pipeline components\n",
    "\n",
    "We will not go into details of the entire configuration. However, the top line is important. It says that all optional components are set to True by default.\n",
    "\n",
    "\n",
    "`\n",
    "Will establish with table: True and ocr: True\n",
    "`\n",
    "\n",
    "The analyzer therefore performs layout recognition, table segmentation and OCR extraction. These steps represent the components that were performed using neural networks.\n",
    "\n",
    "In addition, there are other components that are rule-based: These include, for example, a refinement process for table segmentation, matching the OCR-determined words to the layout results and a heuristic determination of the reading order.\n",
    "\n",
    "## Analyze methods\n",
    "\n",
    "The `analyze` method has various transfer parameters. The `path` parameter can be used to transfer a path to a directory to the analyzer. In this directory, all individual pages are processed at the start that are in this directory and have the ending .png or .jpg.\n",
    "\n",
    "It is also possible to transfer a path to a PDF document using the `doc_path` parameter. When the analyzer is started, the individual pages of the entire document are successively analyzed. "
   ]
  },
  {
   "cell_type": "code",
   "execution_count": 5,
   "metadata": {},
   "outputs": [
    {
     "name": "stdout",
     "output_type": "stream",
     "text": [
      "\u001b[32m[1119 17:38:23 @common.py:558]\u001b[0m [JoinData] Size check failed for the list of dataflow to be joined!\n"
     ]
    }
   ],
   "source": [
    "df = analyzer.analyze(path=path)"
   ]
  },
  {
   "cell_type": "markdown",
   "metadata": {},
   "source": [
    "You can see when running the cell that not much has happened. Indeed, the analyze method returns a generator. The generator allows processing to be started via a for-loop.\n",
    "\n",
    "We use the iter / next method here. The image is only processed when the next function is called."
   ]
  },
  {
   "cell_type": "code",
   "execution_count": 6,
   "metadata": {},
   "outputs": [
    {
     "name": "stdout",
     "output_type": "stream",
     "text": [
      "processing sample_2.png\n"
     ]
    }
   ],
   "source": [
    "doc=iter(df)\n",
    "page = next(doc)"
   ]
  },
  {
   "cell_type": "markdown",
   "metadata": {},
   "source": [
    "## Page object\n",
    "\n",
    "Page object is returned, which contains a structure in which the determined page components are contained. We can get meta information."
   ]
  },
  {
   "cell_type": "code",
   "execution_count": 7,
   "metadata": {},
   "outputs": [
    {
     "data": {
      "text/plain": [
       "(2339, 1654, 'sample_2.png')"
      ]
     },
     "execution_count": 7,
     "metadata": {},
     "output_type": "execute_result"
    }
   ],
   "source": [
    "page.height, page.width, page.file_name"
   ]
  },
  {
   "cell_type": "code",
   "execution_count": 8,
   "metadata": {},
   "outputs": [],
   "source": [
    "image = page.viz()"
   ]
  },
  {
   "cell_type": "markdown",
   "metadata": {},
   "source": [
    "The viz method, which draws in the identified layout components as a bounding box, gives a good impression. These can be output with common visualization tools.\n",
    "\n",
    "It can be seen that a layout analysis of the document was carried out, which reproduces the title, text and tables. In addition, lists and figures, if any, are identified. We can see here that a table with table cells was recognized on the page. In addition, the segmentations such as rows and columns were framed. The row and column positions can be seen in the cell names"
   ]
  },
  {
   "cell_type": "code",
   "execution_count": null,
   "metadata": {},
   "outputs": [],
   "source": [
    "plt.figure(figsize = (20,10))\n",
    "plt.axis('off')\n",
    "plt.imshow(image)"
   ]
  },
  {
   "cell_type": "markdown",
   "metadata": {},
   "source": [
    "We can use the get_text method to output the running text. Only the text layout components that can be assigned to the running text are output. Table contents are not included. "
   ]
  },
  {
   "cell_type": "code",
   "execution_count": null,
   "metadata": {},
   "outputs": [],
   "source": [
    "print(page.get_text())"
   ]
  },
  {
   "cell_type": "code",
   "execution_count": 11,
   "metadata": {},
   "outputs": [
    {
     "data": {
      "text/plain": [
       "1"
      ]
     },
     "execution_count": 11,
     "metadata": {},
     "output_type": "execute_result"
    }
   ],
   "source": [
    "len(page.tables)"
   ]
  },
  {
   "cell_type": "code",
   "execution_count": 12,
   "metadata": {},
   "outputs": [
    {
     "name": "stdout",
     "output_type": "stream",
     "text": [
      "______________ row: 1 ______________\n",
      "______________ row: 2 ______________\n",
      "row: 1, col: 1, rs: 1, cs: 1, text: Jahresdurchschnitt der Mitarbeiterzahl \n",
      "row: 1, col: 2, rs: 1, cs: 1, text: 139 \n",
      "______________ row: 3 ______________\n",
      "row: 2, col: 1, rs: 1, cs: 1, text: Gesamtvergütung ? \n",
      "row: 2, col: 2, rs: 1, cs: 1, text: EUR 15.315.952 \n",
      "______________ row: 4 ______________\n",
      "row: 3, col: 1, rs: 1, cs: 1, text: Fixe Vergütung \n",
      "row: 3, col: 2, rs: 1, cs: 1, text: EUR 13.151.856 \n",
      "______________ row: 5 ______________\n",
      "row: 4, col: 1, rs: 1, cs: 1, text: Variable Vergütung \n",
      "row: 4, col: 2, rs: 1, cs: 1, text: EUR 2.164.096 \n",
      "______________ row: 6 ______________\n",
      "row: 5, col: 1, rs: 1, cs: 1, text: davon: Carried Interest \n",
      "row: 5, col: 2, rs: 1, cs: 1, text: EURO \n",
      "______________ row: 7 ______________\n",
      "row: 6, col: 1, rs: 1, cs: 1, text: Gesamtvergütung für Senior Management ® \n",
      "row: 6, col: 2, rs: 1, cs: 1, text: EUR 1.468.434 \n",
      "______________ row: 8 ______________\n",
      "row: 7, col: 1, rs: 1, cs: 1, text: Gesamtvergütung für sonstige Risikoträger \n",
      "row: 7, col: 2, rs: 1, cs: 1, text: EUR 324.229 \n",
      "\n"
     ]
    }
   ],
   "source": [
    "print(page.tables[0])"
   ]
  },
  {
   "cell_type": "markdown",
   "metadata": {},
   "source": [
    "The print function can be used to display an output of the table that includes the segmentation. In addition, an HTML version is generated that visually reproduces the recognized structure well."
   ]
  },
  {
   "cell_type": "code",
   "execution_count": 13,
   "metadata": {},
   "outputs": [
    {
     "data": {
      "text/html": [
       "<table><tr><td>139</td><td>Jahresdurchschnitt der Mitarbeiterzahl</td></tr><tr><td>EUR 15.315.952</td><td>Gesamtvergütung ?</td></tr><tr><td>EUR 13.151.856</td><td>Fixe Vergütung</td></tr><tr><td>EUR 2.164.096</td><td>Variable Vergütung</td></tr><tr><td>EURO</td><td>davon: Carried Interest</td></tr><tr><td>EUR 1.468.434</td><td>Gesamtvergütung für Senior Management ®</td></tr><tr><td>EUR 324.229</td><td>Gesamtvergütung für sonstige Risikoträger</td></tr><tr><td>EUR 554.046</td><td>Gesamtvergütung für Mitarbeiter mit Kontrollfunktionen</td></tr></table>"
      ],
      "text/plain": [
       "<IPython.core.display.HTML object>"
      ]
     },
     "execution_count": 13,
     "metadata": {},
     "output_type": "execute_result"
    }
   ],
   "source": [
    "HTML(page.tables[0].html)"
   ]
  },
  {
   "cell_type": "markdown",
   "metadata": {},
   "source": [
    "Let's have a look at a second example"
   ]
  },
  {
   "cell_type": "code",
   "execution_count": 14,
   "metadata": {},
   "outputs": [
    {
     "name": "stdout",
     "output_type": "stream",
     "text": [
      "\u001b[32m[1119 17:39:04 @common.py:558]\u001b[0m [JoinData] Size check failed for the list of dataflow to be joined!\n",
      "processing sample.png\n"
     ]
    }
   ],
   "source": [
    "path = os.path.join(get_package_path(),\"notebooks/pics/samples/sample_1\")\n",
    "df = analyzer.analyze(path=path)\n",
    "doc=iter(df)\n",
    "page = next(doc)"
   ]
  },
  {
   "cell_type": "markdown",
   "metadata": {},
   "source": [
    "A quick look shows that the division of the tables into cells is not correct in some cells. It must also be said that this result is to be expected. Because, on the one hand, the approach to segmentation is afflicted by many weaknesses. On the other hand, the data set that was used for training is not varied enough, so that better results cannot be delivered without further measures.\n",
    "\n",
    "A substantial part of this repo is intended to drive forward and improve the present results significantly.\n",
    "\n",
    " The table contents are treated separately. Since no text group was identified (the header was not recognized) the output is empty.\n",
    "\n",
    "A table is saved with the table attribute. The print function can be used to display a readable output of the table."
   ]
  },
  {
   "cell_type": "code",
   "execution_count": null,
   "metadata": {},
   "outputs": [],
   "source": [
    "plt.figure(figsize = (20,10))\n",
    "plt.axis('off')\n",
    "image = page.viz()\n",
    "plt.imshow(image)"
   ]
  },
  {
   "cell_type": "code",
   "execution_count": 16,
   "metadata": {},
   "outputs": [
    {
     "name": "stdout",
     "output_type": "stream",
     "text": [
      "\n"
     ]
    }
   ],
   "source": [
    "print(page.get_text())"
   ]
  },
  {
   "cell_type": "markdown",
   "metadata": {},
   "source": [
    "With the save method the page object can be saved as a JSON file. Conversely, a file can be loaded into a page object with the load_page function."
   ]
  },
  {
   "cell_type": "code",
   "execution_count": null,
   "metadata": {},
   "outputs": [],
   "source": []
  }
 ],
 "metadata": {
  "kernelspec": {
   "display_name": "deep-doc",
   "language": "python",
   "name": "deep-doc"
  },
  "language_info": {
   "codemirror_mode": {
    "name": "ipython",
    "version": 3
   },
   "file_extension": ".py",
   "mimetype": "text/x-python",
   "name": "python",
   "nbconvert_exporter": "python",
   "pygments_lexer": "ipython3",
   "version": "3.8.10"
  }
 },
 "nbformat": 4,
 "nbformat_minor": 4
}
